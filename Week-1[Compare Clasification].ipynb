{
 "cells": [
  {
   "cell_type": "markdown",
   "metadata": {},
   "source": [
    "# Compare Some Classification Methods From Sklearn With Simple Dataset"
   ]
  },
  {
   "cell_type": "code",
   "execution_count": 1,
   "metadata": {},
   "outputs": [],
   "source": [
    "from sklearn import tree\n",
    "from sklearn import svm\n",
    "from sklearn.neural_network import MLPClassifier\n",
    "\n",
    "import numpy as np\n",
    "from sklearn.metrics import accuracy_score"
   ]
  },
  {
   "cell_type": "code",
   "execution_count": 2,
   "metadata": {},
   "outputs": [],
   "source": [
    "#  X is Data Training\n",
    "#  Y is Label\n",
    "\n",
    "# [height, weight, shoe size]\n",
    "X = [\n",
    "        [181, 80, 44], \n",
    "        [177, 70, 43],\n",
    "        [160, 60, 38],\n",
    "        [154, 54, 37],\n",
    "        [166, 65, 40],\n",
    "        [190, 90, 47],\n",
    "        [175, 64, 39],\n",
    "        [177, 70, 40],\n",
    "        [159, 55, 37],\n",
    "        [171, 75, 42],\n",
    "        [181, 85, 43]\n",
    "    ]\n",
    "\n",
    "Y = ['male', 'female', 'female', 'female', 'male', 'male', 'male',\n",
    "    'female', 'male', 'female', 'female']"
   ]
  },
  {
   "cell_type": "code",
   "execution_count": 3,
   "metadata": {},
   "outputs": [],
   "source": [
    "# data test\n",
    "X_test = [\n",
    "        [179, 65, 39], \n",
    "        [180, 78, 40],\n",
    "        [160, 60, 40],\n",
    "        [195, 64, 39],\n",
    "        [200, 70, 40],\n",
    "        [170, 80, 42],\n",
    "        [155, 64, 32],\n",
    "        [169, 60, 35],\n",
    "        [159, 55, 36],\n",
    "        [160, 75, 36],\n",
    "        [165, 65, 34]\n",
    "    ]\n",
    "# y_true is Labels True of Data test (x_test)\n",
    "y_true = ['male', 'male', 'male', 'male', 'male', 'male', 'female',\n",
    "    'female', 'female', 'female', 'female']"
   ]
  },
  {
   "cell_type": "markdown",
   "metadata": {},
   "source": [
    "## Tree Decision Classification"
   ]
  },
  {
   "cell_type": "code",
   "execution_count": 4,
   "metadata": {},
   "outputs": [
    {
     "name": "stdout",
     "output_type": "stream",
     "text": [
      "True Labels: ['male', 'male', 'male', 'male', 'male', 'male', 'female', 'female', 'female', 'female', 'female']\n",
      "Pred Labels: ['male' 'female' 'male' 'male' 'female' 'female' 'female' 'female' 'male'\n",
      " 'female' 'female']\n",
      "The label detected is correct:  7\n"
     ]
    }
   ],
   "source": [
    "# Classifier\n",
    "clf_pohon = tree.DecisionTreeClassifier()\n",
    "\n",
    "# fit the training dataset\n",
    "clf_pohon = clf_pohon.fit(X, Y)\n",
    "\n",
    "# Predict with new Data input, 'y_pred is Labels Prediction'\n",
    "y_pred_tree = clf_pohon.predict(X_test)\n",
    "\n",
    "\n",
    "# Accuracy Tree Decision\n",
    "acc_tree = accuracy_score(y_true, y_pred_tree, normalize=False)\n",
    "\n",
    "print(\"True Labels:\", y_true)\n",
    "print(\"Pred Labels:\", y_pred_tree)\n",
    "print(\"The label detected is correct: \",acc_tree)"
   ]
  },
  {
   "cell_type": "markdown",
   "metadata": {},
   "source": [
    "## Support Vector Machine"
   ]
  },
  {
   "cell_type": "code",
   "execution_count": 5,
   "metadata": {},
   "outputs": [
    {
     "name": "stdout",
     "output_type": "stream",
     "text": [
      "True Labels: ['male', 'male', 'male', 'male', 'male', 'male', 'female', 'female', 'female', 'female', 'female']\n",
      "Pred Labels: ['female' 'female' 'female' 'female' 'female' 'female' 'female' 'female'\n",
      " 'male' 'female' 'female']\n",
      "The label detected is correct:  4\n"
     ]
    }
   ],
   "source": [
    "# Classifier\n",
    "clf_svm = svm.SVC()\n",
    "\n",
    "# fit the training dataset\n",
    "clf_svm = clf_svm.fit(X, Y) \n",
    "\n",
    "# Predict with new Data input, 'y_pred is Labels Prediction'\n",
    "y_pred_svm = clf_svm.predict(X_test)\n",
    "\n",
    "# Accuracy Tree Decision\n",
    "acc_svm = accuracy_score(y_true, y_pred_svm, normalize=False)\n",
    "\n",
    "print(\"True Labels:\", y_true)\n",
    "print(\"Pred Labels:\", y_pred_svm)\n",
    "print(\"The label detected is correct: \",acc_svm)"
   ]
  },
  {
   "cell_type": "markdown",
   "metadata": {},
   "source": [
    "## Multi-Layer Perceptron (MLP)"
   ]
  },
  {
   "cell_type": "code",
   "execution_count": 6,
   "metadata": {},
   "outputs": [
    {
     "name": "stdout",
     "output_type": "stream",
     "text": [
      "True Labels: ['male', 'male', 'male', 'male', 'male', 'male', 'female', 'female', 'female', 'female', 'female']\n",
      "Pred Labels: ['female' 'female' 'female' 'female' 'female' 'female' 'female' 'female'\n",
      " 'female' 'female' 'female']\n",
      "The label detected is correct:  5\n"
     ]
    }
   ],
   "source": [
    "# Classifier\n",
    "clf_mpl = MLPClassifier(solver='lbfgs', alpha=1e-5, hidden_layer_sizes=(5, 2), random_state=1)\n",
    "\n",
    "# fit the training dataset\n",
    "clf_mpl = clf_mpl.fit(X, Y)\n",
    "\n",
    "# Predict with new Data input, 'y_pred is Labels Prediction'\n",
    "y_pred_mpl = clf_mpl.predict(X_test)\n",
    "\n",
    "# Accuracy Tree Decision\n",
    "acc_mpl = accuracy_score(y_true, y_pred_mpl, normalize=False)\n",
    "\n",
    "print(\"True Labels:\", y_true)\n",
    "print(\"Pred Labels:\", y_pred_mpl)\n",
    "print(\"The label detected is correct: \",acc_mpl)"
   ]
  },
  {
   "cell_type": "code",
   "execution_count": 9,
   "metadata": {},
   "outputs": [
    {
     "name": "stdout",
     "output_type": "stream",
     "text": [
      "Best Gender Classifier is Tree Decision\n"
     ]
    }
   ],
   "source": [
    "index = np.argmax([acc_tree, acc_svm, acc_mpl])\n",
    "\n",
    "classifier = {0:'Tree Decision', 1:'SVM', 2:'Perceptron'}\n",
    "\n",
    "print(\"Best Gender Classifier is {}\".format(classifier[index]))"
   ]
  },
  {
   "cell_type": "code",
   "execution_count": null,
   "metadata": {},
   "outputs": [],
   "source": []
  },
  {
   "cell_type": "code",
   "execution_count": null,
   "metadata": {},
   "outputs": [],
   "source": []
  }
 ],
 "metadata": {
  "kernelspec": {
   "display_name": "Python 3",
   "language": "python",
   "name": "python3"
  },
  "language_info": {
   "codemirror_mode": {
    "name": "ipython",
    "version": 3
   },
   "file_extension": ".py",
   "mimetype": "text/x-python",
   "name": "python",
   "nbconvert_exporter": "python",
   "pygments_lexer": "ipython3",
   "version": "3.6.4"
  }
 },
 "nbformat": 4,
 "nbformat_minor": 2
}
